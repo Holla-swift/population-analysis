{
 "cells": [
  {
   "cell_type": "markdown",
   "id": "384cffbb",
   "metadata": {},
   "source": [
    "## Country analysis project"
   ]
  },
  {
   "cell_type": "markdown",
   "id": "7d5ac70b",
   "metadata": {},
   "source": [
    "### Analysis of countries in the world"
   ]
  },
  {
   "cell_type": "code",
   "execution_count": null,
   "id": "fda497f2",
   "metadata": {},
   "outputs": [],
   "source": [
    "## Import relevant libraries\n",
    "\n",
    "import pandas as pd\n",
    "\n",
    "from matplotlib import pyplot as plt"
   ]
  },
  {
   "cell_type": "code",
   "execution_count": null,
   "id": "5688b2e9",
   "metadata": {},
   "outputs": [],
   "source": [
    "data = pd.read_csv('countries.csv')"
   ]
  },
  {
   "cell_type": "code",
   "execution_count": null,
   "id": "df009b22",
   "metadata": {},
   "outputs": [],
   "source": [
    "(data.head(5))"
   ]
  },
  {
   "cell_type": "code",
   "execution_count": null,
   "id": "36dfeef2",
   "metadata": {},
   "outputs": [],
   "source": [
    "data.info()"
   ]
  },
  {
   "cell_type": "code",
   "execution_count": null,
   "id": "59b319b8",
   "metadata": {},
   "outputs": [],
   "source": [
    "data.shape"
   ]
  },
  {
   "cell_type": "code",
   "execution_count": null,
   "id": "35fff946",
   "metadata": {},
   "outputs": [],
   "source": [
    "data.size"
   ]
  },
  {
   "cell_type": "code",
   "execution_count": null,
   "id": "7b3e0236",
   "metadata": {},
   "outputs": [],
   "source": [
    "data.describe()"
   ]
  },
  {
   "cell_type": "code",
   "execution_count": null,
   "id": "8e935ea6",
   "metadata": {},
   "outputs": [],
   "source": [
    "data"
   ]
  },
  {
   "cell_type": "code",
   "execution_count": null,
   "id": "06178cdb",
   "metadata": {},
   "outputs": [],
   "source": [
    "data.population.iloc[1]"
   ]
  },
  {
   "cell_type": "code",
   "execution_count": null,
   "id": "c4f178e1",
   "metadata": {},
   "outputs": [],
   "source": [
    "### Get the Name of countries in the dataset\n",
    "\n",
    "countries_name = list(set(data.country))\n",
    "countries_name.sort(reverse=False)\n",
    "print(countries_name)"
   ]
  },
  {
   "cell_type": "code",
   "execution_count": null,
   "id": "b754492f",
   "metadata": {},
   "outputs": [],
   "source": [
    "print(len(countries_name))"
   ]
  },
  {
   "cell_type": "code",
   "execution_count": null,
   "id": "bb380c41",
   "metadata": {},
   "outputs": [],
   "source": [
    "Nigeria = data[data.country == 'Nigeria']"
   ]
  },
  {
   "cell_type": "code",
   "execution_count": null,
   "id": "3a35d2dc",
   "metadata": {},
   "outputs": [],
   "source": [
    "Nigeria.head()"
   ]
  },
  {
   "cell_type": "code",
   "execution_count": null,
   "id": "c4be808b",
   "metadata": {},
   "outputs": [],
   "source": [
    "plt.plot(Nigeria.year, Nigeria.population/10**6)\n",
    "plt.title('Nigeria Population')\n",
    "plt.ylabel('population in millions')\n",
    "plt.xlabel('years')\n",
    "plt.show()"
   ]
  },
  {
   "cell_type": "code",
   "execution_count": null,
   "id": "7ff478bc",
   "metadata": {},
   "outputs": [],
   "source": [
    "China = data[data.country == 'China']"
   ]
  },
  {
   "cell_type": "code",
   "execution_count": null,
   "id": "d57d0c1c",
   "metadata": {},
   "outputs": [],
   "source": [
    "plt.plot(China.year, China.population/10**6)\n",
    "plt.title('China Population')\n",
    "plt.ylabel('population in millions')\n",
    "plt.xlabel('years')\n",
    "plt.show()"
   ]
  },
  {
   "cell_type": "code",
   "execution_count": null,
   "id": "49214cba",
   "metadata": {},
   "outputs": [],
   "source": [
    "Nigeria_growth = (Nigeria.population/Nigeria.population.iloc[0]*100)\n",
    "\n",
    "China_growth = China.population/China.population.iloc[0]*100"
   ]
  },
  {
   "cell_type": "code",
   "execution_count": null,
   "id": "6a86a904",
   "metadata": {},
   "outputs": [],
   "source": [
    "plt.plot(Nigeria.year, Nigeria_growth)\n",
    "\n",
    "plt.plot(China.year, China_growth)\n",
    "\n",
    "plt.legend(['Nigeria', 'China'], loc='right' )\n",
    "\n",
    "plt.show()"
   ]
  },
  {
   "cell_type": "markdown",
   "id": "09c58529",
   "metadata": {},
   "source": [
    "### Insights into the population"
   ]
  },
  {
   "cell_type": "code",
   "execution_count": null,
   "id": "49db2d93",
   "metadata": {},
   "outputs": [],
   "source": [
    "population_above_amillion = data[data.population >= 10**6]\n",
    "population_above_amillion_2007 = population_above_amillion[data.year == 2007]"
   ]
  },
  {
   "cell_type": "code",
   "execution_count": null,
   "id": "b6230dfe",
   "metadata": {
    "scrolled": true
   },
   "outputs": [],
   "source": [
    "population_above_amillion_2007"
   ]
  },
  {
   "cell_type": "code",
   "execution_count": null,
   "id": "585c9c7b",
   "metadata": {},
   "outputs": [],
   "source": [
    "print('Count of countries with population above one million:');print(len(population_above_amillion_2007))"
   ]
  },
  {
   "cell_type": "code",
   "execution_count": null,
   "id": "26e066b2",
   "metadata": {},
   "outputs": [],
   "source": [
    "### Proportion of countries with population above a million\n",
    "\n",
    "Portion_of_countries_above_amillion = (len(population_above_amillion_2007)/len(countries_name))*100\n",
    "\n",
    "round(Portion_of_countries_above_amillion, 2)"
   ]
  },
  {
   "cell_type": "code",
   "execution_count": null,
   "id": "e81ec9e7",
   "metadata": {},
   "outputs": [],
   "source": [
    "plt.plot(population_above_amillion_2007.country, population_above_amillion_2007.population/10**6)\n",
    "plt.title('population_above_amillion_2007')\n",
    "plt.xticks()\n",
    "plt.show()"
   ]
  },
  {
   "cell_type": "code",
   "execution_count": null,
   "id": "d621ef76",
   "metadata": {},
   "outputs": [],
   "source": [
    "df =(population_above_amillion_2007).describe()"
   ]
  },
  {
   "cell_type": "code",
   "execution_count": null,
   "id": "c972e32d",
   "metadata": {},
   "outputs": [],
   "source": [
    "df.loc[:, df.columns!='year']"
   ]
  },
  {
   "cell_type": "markdown",
   "id": "3df90d0a",
   "metadata": {},
   "source": [
    "## Population growth of major economies"
   ]
  },
  {
   "cell_type": "code",
   "execution_count": null,
   "id": "c3c144a0",
   "metadata": {},
   "outputs": [],
   "source": [
    "US = data[data.country == 'United States']\n",
    "China = data[data.country == 'China']\n",
    "India = data[data.country == 'India']\n",
    "Taiwan = data[data.country == 'Taiwan']\n",
    "Egypt = data[data.country == 'Egypt']\n",
    "Spain = data[data.country == 'Spain']"
   ]
  },
  {
   "cell_type": "code",
   "execution_count": null,
   "id": "aec77344",
   "metadata": {},
   "outputs": [],
   "source": [
    "### Us population growth\n",
    "US_grwth = (US.population/US.population.iloc[0] * 100)\n",
    "\n",
    "### China population growth\n",
    "Chn_grwth = (China.population/China.population.iloc[0] * 100)\n",
    "\n",
    "### India Population growth\n",
    "Idn_grwth = (India.population/India.population.iloc[0] * 100)\n",
    "\n",
    "### Taiwan population growth\n",
    "Twn_grwth = (Taiwan.population/Taiwan.population.iloc[0] * 100)\n",
    "\n",
    "### Egypt population growth\n",
    "\n",
    "Egy_grwth = (Egypt.population/Egypt.population.iloc[0] * 100)\n",
    "\n",
    "# Spain population growth\n",
    "Spain_grwth = (Spain.population/Spain.population.iloc[0] * 100)\n"
   ]
  },
  {
   "cell_type": "code",
   "execution_count": null,
   "id": "061d71e4",
   "metadata": {},
   "outputs": [],
   "source": [
    "plt.plot(US.year, US_grwth)\n",
    "plt.plot(US.year, Chn_grwth)\n",
    "plt.plot(US.year, Twn_grwth)\n",
    "plt.plot(US.year, Egy_grwth)\n",
    "plt.plot(US.year, Spain_grwth)\n",
    "plt.plot(US.year, Nigeria_growth)\n",
    "\n",
    "plt.title('Major population growth', fontsize= 20)\n",
    "plt.ylabel('Population growth')\n",
    "plt.legend(['US', 'China', 'Taiwan', 'Egypt', 'Spain', 'Nigeria'])\n",
    "plt.show()"
   ]
  },
  {
   "cell_type": "markdown",
   "id": "b998dd10",
   "metadata": {},
   "source": [
    "## West Africa population growth"
   ]
  },
  {
   "cell_type": "code",
   "execution_count": null,
   "id": "3e3f1868",
   "metadata": {},
   "outputs": [],
   "source": [
    "Senegal = data[data.country == 'Senegal']\n",
    "Togo = data[data.country == 'Togo']\n",
    "Ghana = data[data.country == 'Ghana']\n",
    "Benin = data[data.country == 'Benin']\n",
    "Niger = data[data.country == 'Niger']"
   ]
  },
  {
   "cell_type": "code",
   "execution_count": null,
   "id": "6e5951eb",
   "metadata": {},
   "outputs": [],
   "source": [
    "# plot charts\n",
    "\n",
    "plt.plot(Nigeria.year, Nigeria.population)\n",
    "plt.plot(Nigeria.year, Senegal.population)\n",
    "plt.plot(Nigeria.year, Togo.population)\n",
    "plt.plot(Nigeria.year, Ghana.population)\n",
    "plt.plot(Nigeria.year, Benin.population)\n",
    "plt.plot(Nigeria.year, Niger.population)\n",
    "\n",
    "plt.legend(['Nigeria', 'Senegal', 'Togo', 'Ghana', 'Benin', 'Niger'])\n",
    "plt.title('West Africa Population', fontsize = 18)\n",
    "plt.show()"
   ]
  },
  {
   "cell_type": "code",
   "execution_count": null,
   "id": "209752d6",
   "metadata": {},
   "outputs": [],
   "source": [
    "Sng_gwth = Senegal.population/Senegal.population.iloc[0]*100\n",
    "Tgo_gwth = Togo.population/Togo.population.iloc[0]*100\n",
    "Ghn_gwth = Ghana.population/Ghana.population.iloc[0]*100\n",
    "Benin_gwth = Benin.population/Benin.population.iloc[0]*100\n",
    "Ngr_gwth = Niger.population/Niger.population.iloc[0]*100"
   ]
  },
  {
   "cell_type": "code",
   "execution_count": null,
   "id": "12ebe71a",
   "metadata": {},
   "outputs": [],
   "source": [
    "# plot charts of population growth\n",
    "\n",
    "plt.plot(Nigeria.year, Nigeria_growth)\n",
    "plt.plot(Nigeria.year, Sng_gwth)\n",
    "plt.plot(Nigeria.year, Tgo_gwth)\n",
    "plt.plot(Nigeria.year, Ghn_gwth)\n",
    "plt.plot(Nigeria.year, Benin_gwth)\n",
    "plt.plot(Nigeria.year, Ngr_gwth)\n",
    "\n",
    "plt.legend(['Nigeria', 'Senegal', 'Togo', 'Ghana', 'Benin', 'Niger'])\n",
    "plt.title('West Africa Population Growth', fontsize = 18)\n",
    "plt.show()"
   ]
  },
  {
   "cell_type": "code",
   "execution_count": null,
   "id": "12ebe71a",
   "metadata": {},
   "outputs": [],
   "source": []
  }
 ],
 "metadata": {
  "interpreter": {
   "hash": "cb776a8375f8b9239be053e69763f4892600dfe18133ac09a5580b4dc1bb9f8a"
  },
  "kernelspec": {
   "display_name": "Python 3.9.7 ('base')",
   "language": "python",
   "name": "python3"
  },
  "language_info": {
   "codemirror_mode": {
    "name": "ipython",
    "version": 3
   },
   "file_extension": ".py",
   "mimetype": "text/x-python",
   "name": "python",
   "nbconvert_exporter": "python",
   "pygments_lexer": "ipython3",
   "version": "3.9.7"
  }
 },
 "nbformat": 4,
 "nbformat_minor": 5
}
