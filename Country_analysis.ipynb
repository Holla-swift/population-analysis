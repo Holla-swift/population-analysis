{
 "cells": [
  {
   "cell_type": "markdown",
   "id": "384cffbb",
   "metadata": {},
   "source": [
    "## Country analysis project"
   ]
  },
  {
   "attachments": {},
   "cell_type": "markdown",
   "id": "7d5ac70b",
   "metadata": {},
   "source": [
    "### Analysis of countries"
   ]
  },
  {
   "cell_type": "code",
   "execution_count": 1,
   "id": "fda497f2",
   "metadata": {},
   "outputs": [],
   "source": [
    "## Import relevant libraries\n",
    "\n",
    "import pandas as pd\n",
    "from matplotlib import pyplot as plt\n",
    "import os"
   ]
  },
  {
   "cell_type": "code",
   "execution_count": 2,
   "id": "5688b2e9",
   "metadata": {},
   "outputs": [],
   "source": [
    "data = pd.read_csv('countries.csv')"
   ]
  },
  {
   "cell_type": "code",
   "execution_count": 4,
   "id": "df009b22",
   "metadata": {},
   "outputs": [
    {
     "data": {
      "text/html": [
       "<div>\n",
       "<style scoped>\n",
       "    .dataframe tbody tr th:only-of-type {\n",
       "        vertical-align: middle;\n",
       "    }\n",
       "\n",
       "    .dataframe tbody tr th {\n",
       "        vertical-align: top;\n",
       "    }\n",
       "\n",
       "    .dataframe thead th {\n",
       "        text-align: right;\n",
       "    }\n",
       "</style>\n",
       "<table border=\"1\" class=\"dataframe\">\n",
       "  <thead>\n",
       "    <tr style=\"text-align: right;\">\n",
       "      <th></th>\n",
       "      <th>country</th>\n",
       "      <th>year</th>\n",
       "      <th>population</th>\n",
       "    </tr>\n",
       "  </thead>\n",
       "  <tbody>\n",
       "    <tr>\n",
       "      <th>818</th>\n",
       "      <td>Kenya</td>\n",
       "      <td>1962</td>\n",
       "      <td>8678557</td>\n",
       "    </tr>\n",
       "    <tr>\n",
       "      <th>1461</th>\n",
       "      <td>Swaziland</td>\n",
       "      <td>1997</td>\n",
       "      <td>1054486</td>\n",
       "    </tr>\n",
       "    <tr>\n",
       "      <th>231</th>\n",
       "      <td>Cameroon</td>\n",
       "      <td>1967</td>\n",
       "      <td>6335506</td>\n",
       "    </tr>\n",
       "    <tr>\n",
       "      <th>936</th>\n",
       "      <td>Malaysia</td>\n",
       "      <td>1952</td>\n",
       "      <td>6748378</td>\n",
       "    </tr>\n",
       "    <tr>\n",
       "      <th>950</th>\n",
       "      <td>Mali</td>\n",
       "      <td>1962</td>\n",
       "      <td>4690372</td>\n",
       "    </tr>\n",
       "  </tbody>\n",
       "</table>\n",
       "</div>"
      ],
      "text/plain": [
       "        country  year  population\n",
       "818       Kenya  1962     8678557\n",
       "1461  Swaziland  1997     1054486\n",
       "231    Cameroon  1967     6335506\n",
       "936    Malaysia  1952     6748378\n",
       "950        Mali  1962     4690372"
      ]
     },
     "execution_count": 4,
     "metadata": {},
     "output_type": "execute_result"
    }
   ],
   "source": [
    "(data.sample(5))"
   ]
  },
  {
   "cell_type": "code",
   "execution_count": 5,
   "id": "36dfeef2",
   "metadata": {},
   "outputs": [
    {
     "name": "stdout",
     "output_type": "stream",
     "text": [
      "<class 'pandas.core.frame.DataFrame'>\n",
      "RangeIndex: 1704 entries, 0 to 1703\n",
      "Data columns (total 3 columns):\n",
      " #   Column      Non-Null Count  Dtype \n",
      "---  ------      --------------  ----- \n",
      " 0   country     1704 non-null   object\n",
      " 1   year        1704 non-null   int64 \n",
      " 2   population  1704 non-null   int64 \n",
      "dtypes: int64(2), object(1)\n",
      "memory usage: 40.1+ KB\n"
     ]
    }
   ],
   "source": [
    "data.info()"
   ]
  },
  {
   "cell_type": "code",
   "execution_count": 6,
   "id": "7b3e0236",
   "metadata": {},
   "outputs": [
    {
     "data": {
      "text/html": [
       "<div>\n",
       "<style scoped>\n",
       "    .dataframe tbody tr th:only-of-type {\n",
       "        vertical-align: middle;\n",
       "    }\n",
       "\n",
       "    .dataframe tbody tr th {\n",
       "        vertical-align: top;\n",
       "    }\n",
       "\n",
       "    .dataframe thead th {\n",
       "        text-align: right;\n",
       "    }\n",
       "</style>\n",
       "<table border=\"1\" class=\"dataframe\">\n",
       "  <thead>\n",
       "    <tr style=\"text-align: right;\">\n",
       "      <th></th>\n",
       "      <th>year</th>\n",
       "      <th>population</th>\n",
       "    </tr>\n",
       "  </thead>\n",
       "  <tbody>\n",
       "    <tr>\n",
       "      <th>count</th>\n",
       "      <td>1704.00000</td>\n",
       "      <td>1.704000e+03</td>\n",
       "    </tr>\n",
       "    <tr>\n",
       "      <th>mean</th>\n",
       "      <td>1979.50000</td>\n",
       "      <td>2.960121e+07</td>\n",
       "    </tr>\n",
       "    <tr>\n",
       "      <th>std</th>\n",
       "      <td>17.26533</td>\n",
       "      <td>1.061579e+08</td>\n",
       "    </tr>\n",
       "    <tr>\n",
       "      <th>min</th>\n",
       "      <td>1952.00000</td>\n",
       "      <td>6.001100e+04</td>\n",
       "    </tr>\n",
       "    <tr>\n",
       "      <th>25%</th>\n",
       "      <td>1965.75000</td>\n",
       "      <td>2.793664e+06</td>\n",
       "    </tr>\n",
       "    <tr>\n",
       "      <th>50%</th>\n",
       "      <td>1979.50000</td>\n",
       "      <td>7.023596e+06</td>\n",
       "    </tr>\n",
       "    <tr>\n",
       "      <th>75%</th>\n",
       "      <td>1993.25000</td>\n",
       "      <td>1.958522e+07</td>\n",
       "    </tr>\n",
       "    <tr>\n",
       "      <th>max</th>\n",
       "      <td>2007.00000</td>\n",
       "      <td>1.318683e+09</td>\n",
       "    </tr>\n",
       "  </tbody>\n",
       "</table>\n",
       "</div>"
      ],
      "text/plain": [
       "             year    population\n",
       "count  1704.00000  1.704000e+03\n",
       "mean   1979.50000  2.960121e+07\n",
       "std      17.26533  1.061579e+08\n",
       "min    1952.00000  6.001100e+04\n",
       "25%    1965.75000  2.793664e+06\n",
       "50%    1979.50000  7.023596e+06\n",
       "75%    1993.25000  1.958522e+07\n",
       "max    2007.00000  1.318683e+09"
      ]
     },
     "execution_count": 6,
     "metadata": {},
     "output_type": "execute_result"
    }
   ],
   "source": [
    "data.describe()"
   ]
  },
  {
   "cell_type": "code",
   "execution_count": 8,
   "id": "c4f178e1",
   "metadata": {},
   "outputs": [
    {
     "name": "stdout",
     "output_type": "stream",
     "text": [
      "['Afghanistan', 'Albania', 'Algeria', 'Angola', 'Argentina', 'Australia', 'Austria', 'Bahrain', 'Bangladesh', 'Belgium', 'Benin', 'Bolivia', 'Bosnia and Herzegovina', 'Botswana', 'Brazil', 'Bulgaria', 'Burkina Faso', 'Burundi', 'Cambodia', 'Cameroon', 'Canada', 'Central African Republic', 'Chad', 'Chile', 'China', 'Colombia', 'Comoros', 'Congo, Dem. Rep.', 'Congo, Rep.', 'Costa Rica', \"Cote d'Ivoire\", 'Croatia', 'Cuba', 'Czech Republic', 'Denmark', 'Djibouti', 'Dominican Republic', 'Ecuador', 'Egypt', 'El Salvador', 'Equatorial Guinea', 'Eritrea', 'Ethiopia', 'Finland', 'France', 'Gabon', 'Gambia', 'Germany', 'Ghana', 'Greece', 'Guatemala', 'Guinea', 'Guinea-Bissau', 'Haiti', 'Honduras', 'Hong Kong, China', 'Hungary', 'Iceland', 'India', 'Indonesia', 'Iran', 'Iraq', 'Ireland', 'Israel', 'Italy', 'Jamaica', 'Japan', 'Jordan', 'Kenya', 'Korea, Dem. Rep.', 'Korea, Rep.', 'Kuwait', 'Lebanon', 'Lesotho', 'Liberia', 'Libya', 'Madagascar', 'Malawi', 'Malaysia', 'Mali', 'Mauritania', 'Mauritius', 'Mexico', 'Mongolia', 'Montenegro', 'Morocco', 'Mozambique', 'Myanmar', 'Namibia', 'Nepal', 'Netherlands', 'New Zealand', 'Nicaragua', 'Niger', 'Nigeria', 'Norway', 'Oman', 'Pakistan', 'Panama', 'Paraguay', 'Peru', 'Philippines', 'Poland', 'Portugal', 'Puerto Rico', 'Reunion', 'Romania', 'Rwanda', 'Sao Tome and Principe', 'Saudi Arabia', 'Senegal', 'Serbia', 'Sierra Leone', 'Singapore', 'Slovak Republic', 'Slovenia', 'Somalia', 'South Africa', 'Spain', 'Sri Lanka', 'Sudan', 'Swaziland', 'Sweden', 'Switzerland', 'Syria', 'Taiwan', 'Tanzania', 'Thailand', 'Togo', 'Trinidad and Tobago', 'Tunisia', 'Turkey', 'Uganda', 'United Kingdom', 'United States', 'Uruguay', 'Venezuela', 'Vietnam', 'West Bank and Gaza', 'Yemen, Rep.', 'Zambia', 'Zimbabwe']\n"
     ]
    }
   ],
   "source": [
    "### Get the Name of countries in the dataset\n",
    "\n",
    "countries_name = list(set(data.country))\n",
    "countries_name.sort(reverse=False)\n",
    "print(countries_name)"
   ]
  },
  {
   "attachments": {},
   "cell_type": "markdown",
   "id": "f930a995",
   "metadata": {},
   "source": [
    "### Number of countries in the dataset"
   ]
  },
  {
   "cell_type": "code",
   "execution_count": 12,
   "id": "b754492f",
   "metadata": {},
   "outputs": [
    {
     "name": "stdout",
     "output_type": "stream",
     "text": [
      "The total number of countries in the world are:142\n"
     ]
    }
   ],
   "source": [
    "print(\"The total number of countries in the world are:\" +str(len(countries_name)))"
   ]
  },
  {
   "attachments": {},
   "cell_type": "markdown",
   "id": "dfa7c9e5",
   "metadata": {},
   "source": [
    "#### Exploring the Nigerian dataset"
   ]
  },
  {
   "cell_type": "code",
   "execution_count": 14,
   "id": "bb380c41",
   "metadata": {},
   "outputs": [
    {
     "data": {
      "text/html": [
       "<div>\n",
       "<style scoped>\n",
       "    .dataframe tbody tr th:only-of-type {\n",
       "        vertical-align: middle;\n",
       "    }\n",
       "\n",
       "    .dataframe tbody tr th {\n",
       "        vertical-align: top;\n",
       "    }\n",
       "\n",
       "    .dataframe thead th {\n",
       "        text-align: right;\n",
       "    }\n",
       "</style>\n",
       "<table border=\"1\" class=\"dataframe\">\n",
       "  <thead>\n",
       "    <tr style=\"text-align: right;\">\n",
       "      <th></th>\n",
       "      <th>country</th>\n",
       "      <th>year</th>\n",
       "      <th>population</th>\n",
       "    </tr>\n",
       "  </thead>\n",
       "  <tbody>\n",
       "    <tr>\n",
       "      <th>1131</th>\n",
       "      <td>Nigeria</td>\n",
       "      <td>1967</td>\n",
       "      <td>47287752</td>\n",
       "    </tr>\n",
       "    <tr>\n",
       "      <th>1133</th>\n",
       "      <td>Nigeria</td>\n",
       "      <td>1977</td>\n",
       "      <td>62209173</td>\n",
       "    </tr>\n",
       "    <tr>\n",
       "      <th>1139</th>\n",
       "      <td>Nigeria</td>\n",
       "      <td>2007</td>\n",
       "      <td>135031164</td>\n",
       "    </tr>\n",
       "    <tr>\n",
       "      <th>1136</th>\n",
       "      <td>Nigeria</td>\n",
       "      <td>1992</td>\n",
       "      <td>93364244</td>\n",
       "    </tr>\n",
       "    <tr>\n",
       "      <th>1132</th>\n",
       "      <td>Nigeria</td>\n",
       "      <td>1972</td>\n",
       "      <td>53740085</td>\n",
       "    </tr>\n",
       "  </tbody>\n",
       "</table>\n",
       "</div>"
      ],
      "text/plain": [
       "      country  year  population\n",
       "1131  Nigeria  1967    47287752\n",
       "1133  Nigeria  1977    62209173\n",
       "1139  Nigeria  2007   135031164\n",
       "1136  Nigeria  1992    93364244\n",
       "1132  Nigeria  1972    53740085"
      ]
     },
     "execution_count": 14,
     "metadata": {},
     "output_type": "execute_result"
    }
   ],
   "source": [
    "Nigeria = data[data.country == 'Nigeria']\n",
    "Nigeria.sample(5)"
   ]
  },
  {
   "cell_type": "code",
   "execution_count": 18,
   "id": "c4be808b",
   "metadata": {},
   "outputs": [
    {
     "data": {
      "image/png": "[encoded data removed]",
      "text/plain": [
       "<Figure size 432x288 with 1 Axes>"
      ]
     },
     "metadata": {
      "needs_background": "light"
     },
     "output_type": "display_data"
    }
   ],
   "source": [
    "plt.plot(Nigeria.year, Nigeria.population/10**6)\n",
    "plt.title('Nigeria Population')\n",
    "plt.ylabel('population in millions')\n",
    "plt.xlabel('years')\n",
    "plt.show()"
   ]
  },
  {
   "cell_type": "code",
   "execution_count": 19,
   "id": "7ff478bc",
   "metadata": {},
   "outputs": [],
   "source": [
    "China = data[data.country == 'China']"
   ]
  },
  {
   "cell_type": "code",
   "execution_count": 20,
   "id": "d57d0c1c",
   "metadata": {},
   "outputs": [
    {
     "data": {
      "image/png": "[encoded data removed]",
      "text/plain": [
       "<Figure size 432x288 with 1 Axes>"
      ]
     },
     "metadata": {
      "needs_background": "light"
     },
     "output_type": "display_data"
    }
   ],
   "source": [
    "plt.plot(China.year, China.population/10**6)\n",
    "plt.title('China Population')\n",
    "plt.ylabel('population in millions')\n",
    "plt.xlabel('years')\n",
    "plt.show()"
   ]
  },
  {
   "cell_type": "code",
   "execution_count": 21,
   "id": "49214cba",
   "metadata": {},
   "outputs": [],
   "source": [
    "Nigeria_growth = (Nigeria.population/Nigeria.population.iloc[0]*100)\n",
    "\n",
    "China_growth = China.population/China.population.iloc[0]*100"
   ]
  },
  {
   "cell_type": "code",
   "execution_count": 27,
   "id": "6a86a904",
   "metadata": {},
   "outputs": [
    {
     "data": {
      "image/png": "[encoded data removed]",
      "text/plain": [
       "<Figure size 432x288 with 1 Axes>"
      ]
     },
     "metadata": {
      "needs_background": "light"
     },
     "output_type": "display_data"
    }
   ],
   "source": [
    "plt.plot(Nigeria.year, Nigeria_growth/100)\n",
    "\n",
    "plt.plot(China.year, China_growth/100)\n",
    "\n",
    "plt.legend(['Nigeria', 'China'], loc='right' )\n",
    "plt.title(\"Nigeria's growth rate has outpaced China's growth rate\", size=14)\n",
    "plt.show()"
   ]
  },
  {
   "cell_type": "markdown",
   "id": "09c58529",
   "metadata": {},
   "source": [
    "### Insights into the population"
   ]
  },
  {
   "cell_type": "code",
   "execution_count": null,
   "id": "49db2d93",
   "metadata": {},
   "outputs": [],
   "source": [
    "population_above_amillion = data[data.population >= 10**6]\n",
    "population_above_amillion_2007 = population_above_amillion[data.year == 2007]"
   ]
  },
  {
   "cell_type": "code",
   "execution_count": null,
   "id": "b6230dfe",
   "metadata": {
    "scrolled": true
   },
   "outputs": [],
   "source": [
    "population_above_amillion_2007"
   ]
  },
  {
   "cell_type": "code",
   "execution_count": null,
   "id": "585c9c7b",
   "metadata": {},
   "outputs": [],
   "source": [
    "print('Count of countries with population above one million:');print(len(population_above_amillion_2007))"
   ]
  },
  {
   "cell_type": "code",
   "execution_count": null,
   "id": "26e066b2",
   "metadata": {},
   "outputs": [],
   "source": [
    "### Proportion of countries with population above a million\n",
    "\n",
    "Portion_of_countries_above_amillion = (len(population_above_amillion_2007)/len(countries_name))*100\n",
    "\n",
    "round(Portion_of_countries_above_amillion, 2)"
   ]
  },
  {
   "cell_type": "code",
   "execution_count": null,
   "id": "e81ec9e7",
   "metadata": {},
   "outputs": [],
   "source": [
    "plt.plot(population_above_amillion_2007.country, population_above_amillion_2007.population/10**6)\n",
    "plt.title('population_above_amillion_2007')\n",
    "plt.xticks()\n",
    "plt.show()"
   ]
  },
  {
   "cell_type": "code",
   "execution_count": null,
   "id": "d621ef76",
   "metadata": {},
   "outputs": [],
   "source": [
    "df =(population_above_amillion_2007).describe()"
   ]
  },
  {
   "cell_type": "code",
   "execution_count": null,
   "id": "c972e32d",
   "metadata": {},
   "outputs": [],
   "source": [
    "df.loc[:, df.columns!='year']"
   ]
  },
  {
   "cell_type": "markdown",
   "id": "3df90d0a",
   "metadata": {},
   "source": [
    "## Population growth of major economies"
   ]
  },
  {
   "cell_type": "code",
   "execution_count": null,
   "id": "c3c144a0",
   "metadata": {},
   "outputs": [],
   "source": [
    "US = data[data.country == 'United States']\n",
    "China = data[data.country == 'China']\n",
    "India = data[data.country == 'India']\n",
    "Taiwan = data[data.country == 'Taiwan']\n",
    "Egypt = data[data.country == 'Egypt']\n",
    "Spain = data[data.country == 'Spain']"
   ]
  },
  {
   "cell_type": "code",
   "execution_count": null,
   "id": "aec77344",
   "metadata": {},
   "outputs": [],
   "source": [
    "### Us population growth\n",
    "US_grwth = (US.population/US.population.iloc[0] * 100)\n",
    "\n",
    "### China population growth\n",
    "Chn_grwth = (China.population/China.population.iloc[0] * 100)\n",
    "\n",
    "### India Population growth\n",
    "Idn_grwth = (India.population/India.population.iloc[0] * 100)\n",
    "\n",
    "### Taiwan population growth\n",
    "Twn_grwth = (Taiwan.population/Taiwan.population.iloc[0] * 100)\n",
    "\n",
    "### Egypt population growth\n",
    "\n",
    "Egy_grwth = (Egypt.population/Egypt.population.iloc[0] * 100)\n",
    "\n",
    "# Spain population growth\n",
    "Spain_grwth = (Spain.population/Spain.population.iloc[0] * 100)\n"
   ]
  },
  {
   "cell_type": "code",
   "execution_count": null,
   "id": "061d71e4",
   "metadata": {},
   "outputs": [],
   "source": [
    "plt.plot(US.year, US_grwth)\n",
    "plt.plot(US.year, Chn_grwth)\n",
    "plt.plot(US.year, Twn_grwth)\n",
    "plt.plot(US.year, Egy_grwth)\n",
    "plt.plot(US.year, Spain_grwth)\n",
    "plt.plot(US.year, Nigeria_growth)\n",
    "\n",
    "plt.title('Major population growth', fontsize= 20)\n",
    "plt.ylabel('Population growth')\n",
    "plt.legend(['US', 'China', 'Taiwan', 'Egypt', 'Spain', 'Nigeria'])\n",
    "plt.show()"
   ]
  },
  {
   "cell_type": "markdown",
   "id": "b998dd10",
   "metadata": {},
   "source": [
    "## West Africa population growth"
   ]
  },
  {
   "cell_type": "code",
   "execution_count": null,
   "id": "3e3f1868",
   "metadata": {},
   "outputs": [],
   "source": [
    "Senegal = data[data.country == 'Senegal']\n",
    "Togo = data[data.country == 'Togo']\n",
    "Ghana = data[data.country == 'Ghana']\n",
    "Benin = data[data.country == 'Benin']\n",
    "Niger = data[data.country == 'Niger']"
   ]
  },
  {
   "cell_type": "code",
   "execution_count": null,
   "id": "6e5951eb",
   "metadata": {},
   "outputs": [],
   "source": [
    "# plot charts\n",
    "\n",
    "plt.plot(Nigeria.year, Nigeria.population)\n",
    "plt.plot(Nigeria.year, Senegal.population)\n",
    "plt.plot(Nigeria.year, Togo.population)\n",
    "plt.plot(Nigeria.year, Ghana.population)\n",
    "plt.plot(Nigeria.year, Benin.population)\n",
    "plt.plot(Nigeria.year, Niger.population)\n",
    "\n",
    "plt.legend(['Nigeria', 'Senegal', 'Togo', 'Ghana', 'Benin', 'Niger'])\n",
    "plt.title('West Africa Population', fontsize = 18)\n",
    "plt.show()"
   ]
  },
  {
   "cell_type": "code",
   "execution_count": null,
   "id": "209752d6",
   "metadata": {},
   "outputs": [],
   "source": [
    "Sng_gwth = Senegal.population/Senegal.population.iloc[0]*100\n",
    "Tgo_gwth = Togo.population/Togo.population.iloc[0]*100\n",
    "Ghn_gwth = Ghana.population/Ghana.population.iloc[0]*100\n",
    "Benin_gwth = Benin.population/Benin.population.iloc[0]*100\n",
    "Ngr_gwth = Niger.population/Niger.population.iloc[0]*100"
   ]
  },
  {
   "cell_type": "code",
   "execution_count": null,
   "id": "12ebe71a",
   "metadata": {},
   "outputs": [],
   "source": [
    "# plot charts of population growth\n",
    "\n",
    "plt.plot(Nigeria.year, Nigeria_growth)\n",
    "plt.plot(Nigeria.year, Sng_gwth)\n",
    "plt.plot(Nigeria.year, Tgo_gwth)\n",
    "plt.plot(Nigeria.year, Ghn_gwth)\n",
    "plt.plot(Nigeria.year, Benin_gwth)\n",
    "plt.plot(Nigeria.year, Ngr_gwth)\n",
    "\n",
    "plt.legend(['Nigeria', 'Senegal', 'Togo', 'Ghana', 'Benin', 'Niger'])\n",
    "plt.title('West Africa Population Growth', fontsize = 18)\n",
    "plt.show()"
   ]
  },
  {
   "cell_type": "code",
   "execution_count": null,
   "id": "12ebe71a",
   "metadata": {},
   "outputs": [],
   "source": []
  }
 ],
 "metadata": {
  "kernelspec": {
   "display_name": "base",
   "language": "python",
   "name": "python3"
  },
  "language_info": {
   "codemirror_mode": {
    "name": "ipython",
    "version": 3
   },
   "file_extension": ".py",
   "mimetype": "text/x-python",
   "name": "python",
   "nbconvert_exporter": "python",
   "pygments_lexer": "ipython3",
   "version": "3.9.7 (default, Sep 16 2021, 16:59:28) [MSC v.1916 64 bit (AMD64)]"
  },
  "vscode": {
   "interpreter": {
    "hash": "26fc636a4e6471c752ee0916ff9157104e4ccb6a890d18cc5385d41d13a1e4ae"
   }
  }
 },
 "nbformat": 4,
 "nbformat_minor": 5
}
